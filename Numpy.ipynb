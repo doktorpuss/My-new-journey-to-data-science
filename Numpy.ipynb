{
 "cells": [
  {
   "cell_type": "code",
   "execution_count": 1,
   "metadata": {},
   "outputs": [],
   "source": [
    "import numpy as np"
   ]
  },
  {
   "cell_type": "markdown",
   "metadata": {},
   "source": [
    "# 1.Tạo ma trận"
   ]
  },
  {
   "cell_type": "markdown",
   "metadata": {},
   "source": [
    "#### a. Basic"
   ]
  },
  {
   "cell_type": "code",
   "execution_count": 13,
   "metadata": {},
   "outputs": [
    {
     "data": {
      "text/plain": [
       "array([ 0,  5, 10, 15, 20, 25, 30, 35, 40, 45, 50, 55, 60, 65, 70, 75, 80,\n",
       "       85, 90, 95])"
      ]
     },
     "execution_count": 13,
     "metadata": {},
     "output_type": "execute_result"
    }
   ],
   "source": [
    "#np.arange(start,stop,step)\n",
    "mat = np.arange(0,100,5)\n",
    "mat"
   ]
  },
  {
   "cell_type": "code",
   "execution_count": null,
   "metadata": {},
   "outputs": [],
   "source": [
    "#np.linspace(start,stop,quantity)\n",
    "mat = np.linspace(5,100,20)\n",
    "mat"
   ]
  },
  {
   "cell_type": "code",
   "execution_count": 15,
   "metadata": {},
   "outputs": [
    {
     "data": {
      "text/plain": [
       "array([[[ 0,  5, 10, 15, 20],\n",
       "        [25, 30, 35, 40, 45]],\n",
       "\n",
       "       [[50, 55, 60, 65, 70],\n",
       "        [75, 80, 85, 90, 95]]])"
      ]
     },
     "execution_count": 15,
     "metadata": {},
     "output_type": "execute_result"
    }
   ],
   "source": [
    "#ndarray.reshape(row,col) \n",
    "#row*col phải bằng số lượng phần tử trong mảng ndarrayndarray\n",
    "mat=mat.reshape(2,2,5)\n",
    "mat"
   ]
  },
  {
   "cell_type": "markdown",
   "metadata": {},
   "source": [
    "#### b. Special"
   ]
  },
  {
   "cell_type": "code",
   "execution_count": 7,
   "metadata": {},
   "outputs": [
    {
     "name": "stdout",
     "output_type": "stream",
     "text": [
      "===========================\n",
      "Ma trận 0 :\n",
      "\n",
      "[[0. 0. 0.]\n",
      " [0. 0. 0.]\n",
      " [0. 0. 0.]]\n",
      "\n",
      "===========================\n",
      "Ma trận đường chéo :\n",
      "\n",
      "[[1. 1. 1.]\n",
      " [1. 1. 1.]\n",
      " [1. 1. 1.]]\n",
      "\n",
      "===========================\n",
      "Ma trận ngãu nhiên :\n",
      "\n",
      "[[0.00000000e+000 9.70190358e-312]\n",
      " [9.70190359e-312 9.70190358e-312]]\n"
     ]
    }
   ],
   "source": [
    "print(\"===========================\")\n",
    "print(f\"Ma trận 0 :\\n\\n{np.zeros(9).reshape(3,3)}\")\n",
    "print(\"\\n===========================\")\n",
    "print(f\"Ma trận đường chéo :\\n\\n{np.ones(9).reshape(3,3)}\")\n",
    "print(\"\\n===========================\")\n",
    "print(f\"Ma trận ngãu nhiên :\\n\\n{np.empty(4).reshape(2,2)}\")"
   ]
  },
  {
   "cell_type": "markdown",
   "metadata": {},
   "source": [
    "# 2.Các thông số của ma trận"
   ]
  },
  {
   "cell_type": "markdown",
   "metadata": {},
   "source": [
    "#### a. Số lượng phần tử có trong ma trận và kiểu dữ liệu của các phần tử đớ"
   ]
  },
  {
   "cell_type": "code",
   "execution_count": 28,
   "metadata": {},
   "outputs": [
    {
     "name": "stdout",
     "output_type": "stream",
     "text": [
      "mat: \n",
      "[[[ 0  5 10 15 20]\n",
      "  [25 30 35 40 45]]\n",
      "\n",
      " [[50 55 60 65 70]\n",
      "  [75 80 85 90 95]]]\n",
      "============================================\n",
      "Số lượng phần tử có trong mảng: 20\n",
      "Kiểu dữ liệu của ma trận: int64\n"
     ]
    }
   ],
   "source": [
    "print(f\"mat: \\n{mat}\\n============================================\")\n",
    "print(f\"Số lượng phần tử có trong mảng: {mat.size}\")\n",
    "print(f\"Kiểu dữ liệu của ma trận: {mat.dtype}\")"
   ]
  },
  {
   "cell_type": "markdown",
   "metadata": {},
   "source": [
    "#### b. Số chiều của mảng"
   ]
  },
  {
   "cell_type": "code",
   "execution_count": 11,
   "metadata": {},
   "outputs": [
    {
     "name": "stdout",
     "output_type": "stream",
     "text": [
      "mat: \n",
      "[[ 0  5 10 15 20]\n",
      " [25 30 35 40 45]\n",
      " [50 55 60 65 70]\n",
      " [75 80 85 90 95]]\n",
      "\n",
      "Số chiều mảng có: 2\n"
     ]
    }
   ],
   "source": [
    "print(f\"mat: \\n{mat}\")\n",
    "print(f\"\\nSố chiều mảng có: {mat.ndim}\")"
   ]
  },
  {
   "cell_type": "markdown",
   "metadata": {},
   "source": [
    "#### c.  Kích thước hàng/cột của mảng"
   ]
  },
  {
   "cell_type": "code",
   "execution_count": 20,
   "metadata": {},
   "outputs": [
    {
     "name": "stdout",
     "output_type": "stream",
     "text": [
      "mat: \n",
      "[[[ 0  5 10 15 20]\n",
      "  [25 30 35 40 45]]\n",
      "\n",
      " [[50 55 60 65 70]\n",
      "  [75 80 85 90 95]]]\n",
      "============================================\n",
      "Kích thước ma trận theo các chiều: (2, 2, 5)\n",
      "Kích thước ma trận theo chiều thứ nhất: 2\n"
     ]
    }
   ],
   "source": [
    "# Hàm trả về giá trị là mảng gồm kích thước theo các chiều \n",
    "# => số phân tử trong mảng kết quả là số chiều của ma trận và cũng có thể truy cập trực tiếp\n",
    "print(f\"mat: \\n{mat}\\n============================================\")\n",
    "print(f\"Kích thước ma trận theo các chiều: {mat.shape}\")\n",
    "print(f\"Kích thước ma trận theo chiều thứ nhất: {mat.shape[0]}\")"
   ]
  }
 ],
 "metadata": {
  "kernelspec": {
   "display_name": "Python 3",
   "language": "python",
   "name": "python3"
  },
  "language_info": {
   "codemirror_mode": {
    "name": "ipython",
    "version": 3
   },
   "file_extension": ".py",
   "mimetype": "text/x-python",
   "name": "python",
   "nbconvert_exporter": "python",
   "pygments_lexer": "ipython3",
   "version": "3.13.2"
  }
 },
 "nbformat": 4,
 "nbformat_minor": 2
}
