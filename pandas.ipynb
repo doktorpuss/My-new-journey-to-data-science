{
 "cells": [
  {
   "cell_type": "code",
   "execution_count": 1,
   "metadata": {},
   "outputs": [],
   "source": [
    "import pandas as pd\n",
    "import numpy as np"
   ]
  },
  {
   "cell_type": "markdown",
   "metadata": {},
   "source": [
    "# **I. Import Dataset**"
   ]
  },
  {
   "cell_type": "code",
   "execution_count": 2,
   "metadata": {},
   "outputs": [
    {
     "data": {
      "application/vnd.microsoft.datawrangler.viewer.v0+json": {
       "columns": [
        {
         "name": "index",
         "rawType": "int64",
         "type": "integer"
        },
        {
         "name": "Title",
         "rawType": "object",
         "type": "string"
        },
        {
         "name": "Original Price",
         "rawType": "object",
         "type": "string"
        },
        {
         "name": "Discounted Price",
         "rawType": "object",
         "type": "string"
        },
        {
         "name": "Release Date",
         "rawType": "object",
         "type": "string"
        },
        {
         "name": "Link",
         "rawType": "object",
         "type": "string"
        },
        {
         "name": "Game Description",
         "rawType": "object",
         "type": "string"
        },
        {
         "name": "Recent Reviews Summary",
         "rawType": "object",
         "type": "string"
        },
        {
         "name": "All Reviews Summary",
         "rawType": "object",
         "type": "string"
        },
        {
         "name": "Recent Reviews Number",
         "rawType": "object",
         "type": "string"
        },
        {
         "name": "All Reviews Number",
         "rawType": "object",
         "type": "string"
        },
        {
         "name": "Developer",
         "rawType": "object",
         "type": "string"
        },
        {
         "name": "Publisher",
         "rawType": "object",
         "type": "string"
        },
        {
         "name": "Supported Languages",
         "rawType": "object",
         "type": "string"
        },
        {
         "name": "Popular Tags",
         "rawType": "object",
         "type": "string"
        },
        {
         "name": "Game Features",
         "rawType": "object",
         "type": "string"
        },
        {
         "name": "Minimum Requirements",
         "rawType": "object",
         "type": "string"
        }
       ],
       "conversionMethod": "pd.DataFrame",
       "ref": "d33a5f73-1089-416a-9f17-7270d085b7eb",
       "rows": [
        [
         "0",
         "Baldur's Gate 3",
         "$29.99",
         "$29.99",
         "3 Aug, 2023",
         "https://store.steampowered.com/app/1086940/Baldurs_Gate_3/?snr=1_7_7_230_150_1",
         "Baldur’s Gate 3 is a story-rich, party-based RPG set in the universe of Dungeons & Dragons, where your choices shape a tale of fellowship and betrayal, survival and sacrifice, and the lure of absolute power.",
         "Overwhelmingly Positive",
         "Very Positive",
         "- 96% of the 128,900 user reviews in the last 30 days are positive.",
         "- 94% of the 188,617 user reviews for this game are positive.",
         "Larian Studios",
         "Larian Studios",
         "['English', 'French', 'German', 'Spanish - Spain', 'Polish', 'Russian', 'Simplified Chinese', 'Turkish', 'Portuguese - Brazil', 'Italian', 'Spanish - Latin America', 'Traditional Chinese', 'Ukrainian']",
         "['RPG', 'Choices Matter', 'Character Customization', 'Story Rich', 'Adventure', 'Online Co-Op', 'CRPG', 'Multiplayer', 'Fantasy', 'Turn-Based Combat', 'Dungeons & Dragons', 'Co-op Campaign', 'Strategy', 'Singleplayer', 'Romance', 'Class-Based', 'Dark Fantasy', 'Combat', 'Controller', 'Stealth']",
         "['Single-player', 'Online Co-op', 'LAN Co-op', 'Steam Achievements', 'Full controller support', 'Steam Cloud']",
         "Requires a 64-bit processor and operating system | OS: |  Windows 10 64-bit | Processor: |  Intel I5 4690 / AMD FX 8350 | Memory: |  8 GB RAM | Graphics: |  Nvidia GTX 970 / RX 480 (4GB+ of VRAM) | DirectX: |  Version 11 | Storage: |  150 GB available space | Additional Notes: |  SSD required"
        ]
       ],
       "shape": {
        "columns": 16,
        "rows": 1
       }
      },
      "text/html": [
       "<div>\n",
       "<style scoped>\n",
       "    .dataframe tbody tr th:only-of-type {\n",
       "        vertical-align: middle;\n",
       "    }\n",
       "\n",
       "    .dataframe tbody tr th {\n",
       "        vertical-align: top;\n",
       "    }\n",
       "\n",
       "    .dataframe thead th {\n",
       "        text-align: right;\n",
       "    }\n",
       "</style>\n",
       "<table border=\"1\" class=\"dataframe\">\n",
       "  <thead>\n",
       "    <tr style=\"text-align: right;\">\n",
       "      <th></th>\n",
       "      <th>Title</th>\n",
       "      <th>Original Price</th>\n",
       "      <th>Discounted Price</th>\n",
       "      <th>Release Date</th>\n",
       "      <th>Link</th>\n",
       "      <th>Game Description</th>\n",
       "      <th>Recent Reviews Summary</th>\n",
       "      <th>All Reviews Summary</th>\n",
       "      <th>Recent Reviews Number</th>\n",
       "      <th>All Reviews Number</th>\n",
       "      <th>Developer</th>\n",
       "      <th>Publisher</th>\n",
       "      <th>Supported Languages</th>\n",
       "      <th>Popular Tags</th>\n",
       "      <th>Game Features</th>\n",
       "      <th>Minimum Requirements</th>\n",
       "    </tr>\n",
       "  </thead>\n",
       "  <tbody>\n",
       "    <tr>\n",
       "      <th>0</th>\n",
       "      <td>Baldur's Gate 3</td>\n",
       "      <td>$29.99</td>\n",
       "      <td>$29.99</td>\n",
       "      <td>3 Aug, 2023</td>\n",
       "      <td>https://store.steampowered.com/app/1086940/Bal...</td>\n",
       "      <td>Baldur’s Gate 3 is a story-rich, party-based R...</td>\n",
       "      <td>Overwhelmingly Positive</td>\n",
       "      <td>Very Positive</td>\n",
       "      <td>- 96% of the 128,900 user reviews in the last ...</td>\n",
       "      <td>- 94% of the 188,617 user reviews for this gam...</td>\n",
       "      <td>Larian Studios</td>\n",
       "      <td>Larian Studios</td>\n",
       "      <td>['English', 'French', 'German', 'Spanish - Spa...</td>\n",
       "      <td>['RPG', 'Choices Matter', 'Character Customiza...</td>\n",
       "      <td>['Single-player', 'Online Co-op', 'LAN Co-op',...</td>\n",
       "      <td>Requires a 64-bit processor and operating syst...</td>\n",
       "    </tr>\n",
       "  </tbody>\n",
       "</table>\n",
       "</div>"
      ],
      "text/plain": [
       "             Title Original Price Discounted Price Release Date  \\\n",
       "0  Baldur's Gate 3         $29.99           $29.99  3 Aug, 2023   \n",
       "\n",
       "                                                Link  \\\n",
       "0  https://store.steampowered.com/app/1086940/Bal...   \n",
       "\n",
       "                                    Game Description   Recent Reviews Summary  \\\n",
       "0  Baldur’s Gate 3 is a story-rich, party-based R...  Overwhelmingly Positive   \n",
       "\n",
       "  All Reviews Summary                              Recent Reviews Number  \\\n",
       "0       Very Positive  - 96% of the 128,900 user reviews in the last ...   \n",
       "\n",
       "                                  All Reviews Number       Developer  \\\n",
       "0  - 94% of the 188,617 user reviews for this gam...  Larian Studios   \n",
       "\n",
       "        Publisher                                Supported Languages  \\\n",
       "0  Larian Studios  ['English', 'French', 'German', 'Spanish - Spa...   \n",
       "\n",
       "                                        Popular Tags  \\\n",
       "0  ['RPG', 'Choices Matter', 'Character Customiza...   \n",
       "\n",
       "                                       Game Features  \\\n",
       "0  ['Single-player', 'Online Co-op', 'LAN Co-op',...   \n",
       "\n",
       "                                Minimum Requirements  \n",
       "0  Requires a 64-bit processor and operating syst...  "
      ]
     },
     "execution_count": 2,
     "metadata": {},
     "output_type": "execute_result"
    }
   ],
   "source": [
    "data = pd.read_csv(\"datasets/Steam_games/merged_data.csv\")\n",
    "data.head(1)"
   ]
  },
  {
   "cell_type": "markdown",
   "metadata": {},
   "source": [
    "# **II. Tổng quát bộ dữ liệu**"
   ]
  },
  {
   "cell_type": "code",
   "execution_count": null,
   "metadata": {},
   "outputs": [],
   "source": [
    "#Các thông tin về kích thước của tập dữ liệu\n",
    "print(f\"{data.shape}\")\n",
    "print(f\"Số mẫu: {data.shape[0]}\")\n",
    "print(f\"Số thuộc tính: {data.shape[1]}\")"
   ]
  },
  {
   "cell_type": "code",
   "execution_count": null,
   "metadata": {},
   "outputs": [],
   "source": [
    "#Thông tin về kiểu dữ liệu\n",
    "data.info()"
   ]
  },
  {
   "cell_type": "markdown",
   "metadata": {},
   "source": [
    "# **III. Trích xuất các thông tin từ dataset**"
   ]
  },
  {
   "cell_type": "code",
   "execution_count": null,
   "metadata": {},
   "outputs": [],
   "source": [
    "#Lưu các thuộc tính thành dạng list\n",
    "traits=list(data.columns)\n",
    "print(traits)"
   ]
  },
  {
   "cell_type": "code",
   "execution_count": 3,
   "metadata": {},
   "outputs": [
    {
     "data": {
      "application/vnd.microsoft.datawrangler.viewer.v0+json": {
       "columns": [
        {
         "name": "index",
         "rawType": "int64",
         "type": "integer"
        },
        {
         "name": "Title",
         "rawType": "object",
         "type": "string"
        },
        {
         "name": "Release Date",
         "rawType": "object",
         "type": "unknown"
        },
        {
         "name": "Developer",
         "rawType": "object",
         "type": "string"
        },
        {
         "name": "Publisher",
         "rawType": "object",
         "type": "unknown"
        },
        {
         "name": "Popular Tags",
         "rawType": "object",
         "type": "string"
        },
        {
         "name": "Game Features",
         "rawType": "object",
         "type": "string"
        }
       ],
       "conversionMethod": "pd.DataFrame",
       "ref": "6270244c-269b-44e0-a0f2-a8c2c6a4f2c2",
       "rows": [
        [
         "18",
         "Warframe",
         "25 Mar, 2013",
         "Digital Extremes",
         "Digital Extremes",
         "['Free to Play', 'Action RPG', 'Looter Shooter', 'Third-Person Shooter', 'Action', 'RPG', 'Third Person', 'Character Customization', 'Massively Multiplayer', 'Online Co-Op', 'Co-op', 'Singleplayer', 'PvE', 'Sci-fi', 'Lore-Rich', 'Space', 'Shooter', 'Hack and Slash', 'Ninja', 'Parkour']",
         "['Single-player', 'Online Co-op', 'Steam Achievements', 'Full controller support', 'Steam Trading Cards', 'Steam Workshop', 'In-App Purchases', 'Remote Play on Phone', 'Remote Play on Tablet']"
        ],
        [
         "33",
         "The Sims™ 4",
         "18 Jun, 2020",
         "Maxis",
         "Electronic Arts",
         "['Free to Play', 'Life Sim', 'Character Customization', 'Building', 'Sandbox', 'Romance', 'Singleplayer', 'Immersive Sim', 'Simulation', 'Dating Sim', 'Cute', 'Relaxing', 'Casual', 'Funny', 'Realistic', 'Family Friendly', 'Multiplayer', 'Adventure', 'Cartoony', 'Fantasy']",
         "['Single-player', 'Steam Trading Cards', 'Remote Play on Tablet']"
        ],
        [
         "141",
         "Grand Theft Auto IV: Complete Edition",
         null,
         "Rockstar North, Rockstar Toronto",
         "Rockstar Games",
         "['Open World', 'Action', 'Automobile Sim', 'Multiplayer', 'Crime', 'Third Person', 'Adventure', 'Singleplayer', 'Third-Person Shooter', 'Sandbox', 'Moddable', 'Shooter', 'Physics', 'Atmospheric', 'Classic', 'Funny', 'Dark Humor', 'Gore', 'Co-op', 'Satire']",
         "['Single-player', 'Partial Controller Support']"
        ],
        [
         "408",
         "Crush Crush",
         "18 Oct, 2016",
         "Sad Panda Studios",
         "Sad Panda Studios",
         "['Sexual Content', 'Nudity', 'Free to Play', 'Dating Sim', 'Anime', 'Hentai', 'Mature', 'Clicker', 'Cute', 'Singleplayer', 'Romance', 'Casual', 'Visual Novel', 'Funny', 'NSFW', 'Comedy', 'Memes', 'Indie', 'Female Protagonist', 'Resource Management']",
         "['Single-player', 'Steam Achievements', 'Steam Trading Cards', 'In-App Purchases', 'Stats', 'Steam Leaderboards', 'Remote Play on Phone', 'Remote Play on Tablet']"
        ],
        [
         "432",
         "DEATH STRANDING DIRECTOR'S CUT",
         "30 Mar, 2022",
         "KOJIMA PRODUCTIONS",
         "505 Games",
         "['Story Rich', 'Open World', 'Walking Simulator', 'Atmospheric', 'Adventure', 'Action', 'Exploration', 'Great Soundtrack', 'Singleplayer', 'Third Person', 'Cinematic', 'Post-apocalyptic', 'Sci-fi', 'Action-Adventure', 'Horror', 'Relaxing', 'Combat', 'Multiplayer', 'Third-Person Shooter', 'Stealth']",
         "['Single-player', 'Steam Achievements', 'Full controller support', 'Steam Cloud']"
        ],
        [
         "528",
         "Shakes and Fidget",
         "24 Feb, 2016",
         "Playa Games GmbH",
         "Playa Games GmbH",
         "['Free to Play', 'RPG', 'Massively Multiplayer', 'Casual', 'Multiplayer', 'Adventure', 'Strategy', 'Clicker', 'MMORPG', 'Character Customization', 'Fantasy', 'Indie', 'Comedy', 'Medieval', 'Singleplayer', 'Funny', 'Classic', 'Dark Humor', 'Story Rich', 'Cult Classic']",
         "['Single-player', 'MMO', 'Cross-Platform Multiplayer', 'Steam Trading Cards', 'In-App Purchases']"
        ],
        [
         "623",
         "My Singing Monsters",
         "24 Mar, 2021",
         "Big Blue Bubble",
         "Big Blue Bubble",
         "['Simulation', 'Creature Collector', 'Casual', 'Farming Sim', 'Colony Sim', 'Cartoony', 'Cute', 'Collectathon', 'Colorful', '2.5D', 'Family Friendly', 'Free to Play', 'Building', 'Dragons', 'Dinosaurs', 'Relaxing', 'Nature', 'Horror', 'Resource Management', 'PvE']",
         "['Single-player', 'Online Co-op', 'In-App Purchases']"
        ],
        [
         "745",
         "Fallout Shelter",
         "29 Mar, 2017",
         "Bethesda Game Studios",
         "Bethesda Softworks",
         "['Free to Play', 'Base Building', 'Survival', 'Post-apocalyptic', 'Singleplayer', 'Simulation', 'Management', 'Strategy', '2D', 'Building', 'Casual', 'Crafting', 'Adventure', 'Sandbox', 'RPG', 'Multiplayer', 'Funny', 'Atmospheric', 'Action', 'Great Soundtrack']",
         "['Single-player', 'Steam Achievements', 'Full controller support', 'In-App Purchases', 'Steam Cloud', 'Stats']"
        ],
        [
         "839",
         "Aimlabs",
         "16 Jun, 2023",
         "Statespace",
         "Statespace",
         "['Free to Play', 'FPS', 'Shooter', 'Simulation', 'Singleplayer', 'First-Person', 'Multiplayer', 'Action', 'eSports', 'Competitive', 'Casual', 'Indie', 'Sniper', 'Early Access', 'Adventure', 'Fast-Paced', 'Difficult', 'Tactical', 'Score Attack', 'Third-Person Shooter']",
         "['Single-player', 'Steam Achievements', 'Full controller support', 'Steam Workshop', 'Stats', 'Steam Leaderboards']"
        ],
        [
         "1024",
         "Dark Deception",
         "26 Sep, 2018",
         "Glowstick Entertainment",
         "Glowstick Entertainment",
         "['Horror', 'Free to Play', 'Multiplayer', 'First-Person', 'Singleplayer', 'Psychological Horror', 'Runner', 'Survival Horror', 'Indie', 'Action', 'Dark Humor', 'Adventure', 'Survival', 'Story Rich', 'Arcade', 'RPG', 'Multiple Endings', 'Cinematic', 'Difficult', 'Dark']",
         "['Single-player', 'Steam Achievements', 'Captions available', 'Steam Cloud']"
        ],
        [
         "1192",
         "Blush Blush",
         "22 Apr, 2020",
         "Sad Panda Studios",
         "Sad Panda Studios",
         "['Sexual Content', 'LGBTQ+', 'Free to Play', 'Dating Sim', 'Nudity', 'Anime', 'Clicker', 'Romance', 'Hentai', 'Otome', 'Mature', 'Casual', 'Cute', 'Simulation', 'Visual Novel', 'Singleplayer', 'Funny', 'Indie', 'Early Access', 'Resource Management']",
         "['Single-player', 'Steam Achievements', 'In-App Purchases']"
        ],
        [
         "1294",
         "Pinball FX3",
         "26 Sep, 2017",
         "Zen Studios",
         "Zen Studios",
         "['Pinball', 'Free to Play', 'Simulation', 'Arcade', 'Casual', 'Retro', 'Physics', 'Score Attack', 'Family Friendly', 'Singleplayer', 'Multiplayer', 'Relaxing', \"1990's\", 'Local Multiplayer', 'Top-Down', 'Replay Value', 'Colorful', 'Realistic', '1980s', 'Sports']",
         "['Single-player', 'Steam Achievements', 'Full controller support', 'Steam Cloud', 'Remote Play on Phone', 'Remote Play on Tablet', 'Remote Play on TV']"
        ],
        [
         "1352",
         "Mafia II (Classic)",
         "22 Mar, 2011",
         "2K Czech",
         "2K",
         "['Action', 'Open World', 'Crime', 'Story Rich', 'Atmospheric', 'Singleplayer', 'Third Person', 'Third-Person Shooter', 'Automobile Sim', 'Shooter', 'Great Soundtrack', 'Adventure', 'Driving', 'America', 'Classic', 'Music', 'Nudity', 'Multiplayer', 'Sandbox', '3D Vision']",
         "['Single-player', 'Steam Achievements', 'Partial Controller Support']"
        ],
        [
         "1662",
         "Cell to Singularity - Evolution Never Ends",
         "3 Nov, 2021",
         "Computer Lunch",
         "Computer Lunch",
         "['Clicker', 'Free to Play', 'Simulation', 'Science', 'Casual', 'Historical', 'Idler', 'Singleplayer', 'Early Access', 'Education', 'Dinosaurs', 'God Game', 'Space', 'Sci-fi', 'Sandbox', 'Point & Click', 'Multiplayer']",
         "['Single-player', 'Steam Achievements', 'In-App Purchases', 'Partial Controller Support', 'Steam Cloud']"
        ],
        [
         "1745",
         "AdVenture Capitalist",
         "30 Mar, 2015",
         "Hyper Hippo Games",
         "Hyper Hippo Games",
         "['Free to Play', 'Clicker', 'Capitalism', 'Singleplayer', 'Casual', 'Management', 'Simulation', 'Indie', 'Funny', '2D', 'Point & Click', 'Idler', 'Strategy', 'Adventure', 'Addictive', 'Touch-Friendly', 'Real-Time', 'Comedy', 'Family Friendly', 'Memes']",
         "['Single-player', 'Steam Achievements', 'Steam Trading Cards', 'Steam Cloud']"
        ],
        [
         "1757",
         "World of Guns: Gun Disassembly",
         "21 May, 2014",
         "Noble Empire Corp.",
         "Noble Empire Corp.",
         "['Free to Play', 'Simulation', 'Gun Customization', 'Education', 'Singleplayer', 'Realistic', 'Puzzle', 'Military', 'Indie', 'Historical', 'First-Person', 'America', 'Funny', 'Animation & Modeling', '3D', 'Exploration', '3D Platformer', 'Logic', 'Old School', 'Relaxing']",
         "['Single-player', 'Steam Achievements', 'Steam Trading Cards', 'Steam Workshop', 'In-App Purchases']"
        ],
        [
         "1805",
         "Tap Ninja - Idle game",
         "17 Mar, 2022",
         "Broken Glass",
         "Broken Glass",
         "['Clicker', 'Casual', 'Idler', 'Pixel Graphics', 'Ninja', '2D', 'Side Scroller', 'Roguelike', 'Action-Adventure', 'Action', 'Adventure', 'Singleplayer', 'Medieval', 'Free to Play', 'Hack and Slash', 'RPG', 'PvE', 'Indie', 'Linear', 'Collectathon']",
         "['Single-player', 'Steam Achievements', 'In-App Purchases', 'Steam Cloud']"
        ],
        [
         "1869",
         "Bit Heroes Quest",
         "13 Dec, 2017",
         "Juppiomenz",
         "Kongregate",
         "['Free to Play', 'Pixel Graphics', 'RPG', 'Adventure', 'Massively Multiplayer', 'MMORPG', 'Turn-Based', '2D', 'Multiplayer', 'Dungeon Crawler', 'Casual', 'Action', 'Loot', 'Idler']",
         "['Single-player', 'MMO', 'Online Co-op', 'Cross-Platform Multiplayer', 'Steam Achievements', 'Steam Trading Cards', 'In-App Purchases']"
        ],
        [
         "1910",
         "BioShock™",
         "21 Aug, 2007",
         "2K Boston, 2K Australia",
         "2K",
         "['FPS', 'Atmospheric', 'Story Rich', 'Action', 'Singleplayer', 'Horror', 'Steampunk', 'First-Person', 'Shooter', 'Sci-fi', 'RPG', 'Classic', 'Adventure', 'Dystopian', 'Underwater', 'Immersive', 'Dark', 'Political', 'Great Soundtrack', 'Alternate History']",
         "['Single-player', 'Partial Controller Support']"
        ],
        [
         "1924",
         "SEGA Mega Drive and Genesis Classics",
         "1 Jun, 2010",
         "D3T Limited",
         "SEGA",
         "['Classic', 'Action', 'RPG', 'Adventure', 'Casual', 'Retro', \"1990's\", '2D', 'Arcade', 'Pixel Graphics', 'Platformer', 'Old School', 'Singleplayer', 'Multiplayer', \"Beat 'em up\", 'Great Soundtrack', 'Co-op', 'Moddable', 'Local Multiplayer', 'VR']",
         "['Single-player', 'Shared/Split Screen Co-op', 'Full controller support', 'VR Supported', 'Steam Trading Cards', 'Steam Workshop', 'Remote Play on Phone', 'Remote Play on Tablet', 'Remote Play on TV', 'Remote Play Together']"
        ],
        [
         "1943",
         "Mr.Mine",
         "30 Sep, 2020",
         "Playsaurus",
         "Playsaurus",
         "['Idler', 'Clicker', 'Strategy', 'Indie', 'Casual', 'Simulation', '2D', 'Mining', 'Pixel Graphics', 'Resource Management', 'Singleplayer', 'Adventure', 'Free to Play', 'RPG', 'Building', 'Crafting', 'Management', 'Cartoony', 'Cartoon', 'Comedy']",
         "['Single-player', 'Steam Achievements', 'In-App Purchases']"
        ],
        [
         "1960",
         "Leaf Blower Revolution - Idle Game",
         "4 Dec, 2020",
         "Humble North",
         "Humble North",
         "['Idler', 'Free to Play', 'Clicker', 'Pixel Graphics', 'Relaxing', 'Casual', 'Funny', 'Indie', '2D', 'Top-Down', 'Singleplayer', 'Colorful', 'Atmospheric', 'Farming Sim', 'Collectathon', 'Crafting', 'Exploration', 'Physics', 'Great Soundtrack', 'Souls-like']",
         "['Single-player', 'Steam Achievements', 'In-App Purchases', 'Steam Cloud', 'Stats']"
        ],
        [
         "2023",
         "Idling to Rule the Gods",
         "27 May, 2016",
         "Shugasu GmbH",
         "Shugasu GmbH",
         "['Free to Play', 'Indie', 'Simulation', 'Casual', 'Singleplayer', 'Text-Based', 'Strategy', 'God Game', 'Clicker', 'Management', 'Fantasy', 'Anime', 'RPG', 'Time Management', '2D', 'Mythology', 'Funny', 'Sci-fi', 'Supernatural', 'Minimalist']",
         "['Single-player', 'Steam Achievements', 'Steam Trading Cards', 'In-App Purchases', 'Steam Leaderboards']"
        ],
        [
         "2042",
         "Darksiders™",
         "23 Sep, 2010",
         "Vigil Games",
         "THQ Nordic",
         "['Action', 'Adventure', 'Hack and Slash', 'Third Person', 'Singleplayer', 'Post-apocalyptic', 'Fantasy', 'Controller', 'Action RPG', 'Puzzle', 'Action-Adventure', 'Open World', 'RPG', 'Gore', 'Spectacle fighter', \"Beat 'em up\", '3D Platformer', 'Metroidvania', 'Character Action Game', 'Platformer']",
         "['Single-player', 'Steam Achievements', 'Partial Controller Support', 'Steam Cloud']"
        ],
        [
         "2079",
         "月圆之夜 (Night of Full Moon)",
         "25 Jul, 2019",
         "Giant Games",
         "Giant Games",
         "['Card Game', 'Strategy', 'Deckbuilding', 'Indie', 'Card Battler', 'Free to Play', 'Adventure', 'Roguelite', 'Singleplayer', 'Roguelike Deckbuilder', 'Roguelike', 'Female Protagonist', 'Turn-Based']",
         "['Single-player', 'Steam Achievements', 'Steam Cloud']"
        ],
        [
         "2100",
         "Clicker Heroes",
         "13 May, 2015",
         "Playsaurus",
         "Playsaurus",
         "['Clicker', 'Free to Play', 'Casual', 'Singleplayer', '2D', 'Indie', 'Addictive', 'Funny', 'RPG', 'Adventure', 'Fantasy', 'Family Friendly', 'Strategy', 'Simulation', 'Idler', 'Multiplayer', 'Touch-Friendly', 'Management', 'Action', 'Illuminati']",
         "['Single-player', 'Steam Achievements', 'Steam Trading Cards', 'In-App Purchases', 'Steam Cloud', 'Stats']"
        ],
        [
         "2205",
         "Idle Slayer",
         "21 Dec, 2020",
         "Pablo Leban",
         "Pablo Leban",
         "['Casual', 'Idler', 'Clicker', 'Free to Play', '2D Platformer', 'Pixel Graphics', '2D', 'Experimental', 'Retro', 'Singleplayer', 'Indie', 'Old School', 'Medieval', 'Nonlinear', 'Strategy', 'Procedural Generation', 'Score Attack', 'RPG', 'Multiplayer']",
         "['Single-player', 'Steam Achievements', 'Steam Trading Cards', 'In-App Purchases']"
        ],
        [
         "2213",
         "One-armed cook",
         "30 Aug, 2022",
         "Duhndal",
         "Duhndal",
         "['Multiplayer', 'Free to Play', 'Simulation', 'Co-op', 'Cooking', 'Funny', 'Casual', 'Online Co-Op', 'First-Person', '3D', 'Psychological Horror', 'Hentai', 'Singleplayer', 'Stylized', 'PvE', 'VR', 'PvP', 'Sexual Content', 'Souls-like', 'Horror']",
         "['Single-player', 'Online Co-op']"
        ],
        [
         "2301",
         "Spiral Knights",
         "14 Jun, 2011",
         "Grey Havens",
         "Grey Havens",
         "['Free to Play', 'Massively Multiplayer', 'RPG', 'Adventure', 'Action', 'Multiplayer', 'Online Co-Op', 'Dungeon Crawler', 'Hack and Slash', 'Co-op', 'MMORPG', 'Cute', 'Great Soundtrack', 'Action RPG', 'Sci-fi', 'Open World', 'Casual', 'Singleplayer', 'Indie', 'Anime']",
         "['Single-player', 'MMO', 'Steam Achievements', 'Steam Trading Cards', 'In-App Purchases', 'Partial Controller Support']"
        ],
        [
         "2317",
         "Max Payne",
         "4 Jan, 2008",
         "Remedy Entertainment",
         "Rockstar Games",
         "['Action', 'Noir', 'Classic', 'Third-Person Shooter', 'Bullet Time', 'Story Rich', 'Atmospheric', 'Dark', 'Third Person', 'Singleplayer', 'Shooter', 'Great Soundtrack', 'Detective', 'Crime', 'Linear', 'Cinematic', 'Violent', 'Adventure', 'Horror', 'Psychological Horror']",
         "['Single-player']"
        ],
        [
         "2599",
         "Marbles on Stream",
         "6 Nov, 2019",
         "Pixel by Pixel Studios Inc.",
         "Pixel by Pixel Studios Inc.",
         "['Free to Play', 'Racing', 'Massively Multiplayer', 'Simulation', 'Casual', 'Multiplayer', 'Psychological Horror']",
         "['Single-player', 'Steam Achievements', 'In-App Purchases', 'Stats', 'Includes level editor']"
        ],
        [
         "2669",
         "Eternium",
         "11 Oct, 2021",
         "DreamPrimer SRL",
         "Making Fun, Inc.",
         "['Hack and Slash', 'Free to Play', 'RPG', 'Action-Adventure', 'Old School', 'Top-Down', 'Action', 'Loot', '3D', 'Adventure', 'Crafting', 'Dungeon Crawler', 'Combat', 'Indie', 'Fantasy', 'Singleplayer', 'Action RPG', 'Atmospheric', 'Character Customization', 'Early Access']",
         "['Single-player', 'In-App Purchases']"
        ],
        [
         "2740",
         "Realm Grinder",
         "15 Jun, 2017",
         "Divine Games",
         "Kongregate",
         "['Free to Play', 'Clicker', 'Strategy', 'Pixel Graphics', 'City Builder', 'Singleplayer', 'RPG', 'Idler', 'Casual', '2D', 'Building', 'Resource Management', 'Indie', 'Multiplayer', 'Simulation', 'Addictive', 'Fantasy', 'Base Building', 'Point & Click', 'Open World']",
         "['Single-player', 'Steam Achievements', 'Steam Trading Cards', 'In-App Purchases']"
        ],
        [
         "2882",
         "Idle Monster TD: Evolved",
         "16 Nov, 2022",
         "Swell Games LLC",
         "Swell Games LLC",
         "['Idler', 'Tower Defense', 'Strategy', 'Auto Battler', 'Time Management', 'Clicker', 'Fantasy', 'PvE', 'Team-Based', 'Deckbuilding', '3D', 'Magic', 'Combat', 'Management', 'Tactical', 'Casual', 'Cute', 'Free to Play', 'Colorful', 'Resource Management']",
         "['Single-player', 'Steam Achievements', 'In-App Purchases']"
        ],
        [
         "2932",
         "Idle Wizard",
         "24 Jan, 2019",
         "TwoWizards",
         "TwoWizards",
         "['Idler', 'Free to Play', 'Clicker', 'Casual', 'RPG', 'Magic']",
         "['Single-player', 'Steam Achievements', 'In-App Purchases', 'Steam Cloud']"
        ],
        [
         "3017",
         "BioShock® 2",
         "9 Feb, 2010",
         "2K Marin, 2K China, Digital Extremes, 2K Australia",
         "2K",
         "['FPS', 'Action', 'Singleplayer', 'Atmospheric', 'Story Rich', 'Horror', 'Shooter', 'First-Person', 'Steampunk', 'Sci-fi', 'Multiplayer', 'Underwater', 'Dystopian', 'Adventure', 'RPG', 'Immersive', 'Dark', 'Great Soundtrack', 'Philosophical', 'Action RPG']",
         "['Single-player', 'Steam Achievements', 'Full controller support', 'Remote Play on TV']"
        ],
        [
         "3363",
         "Bloons Adventure Time TD",
         "16 Jan, 2019",
         "Ninja Kiwi",
         "Ninja Kiwi",
         "['Strategy', 'Action', 'Tower Defense', 'Free to Play', 'Cartoon', 'Singleplayer', 'Multiplayer', 'Family Friendly', 'Psychological Horror', 'Adventure', 'Casual', 'Sexual Content']",
         "['Single-player', 'Steam Achievements', 'In-App Purchases']"
        ],
        [
         "3511",
         "Escape Memoirs: Mini Stories",
         "30 Sep, 2022",
         "0 Deer Soft",
         "0 Deer Soft Partnership",
         "['Free to Play', 'Online Co-Op', 'Multiplayer', 'Escape Room', 'Puzzle', 'Co-op', 'Singleplayer', 'Exploration', 'Detective', 'Logic', 'Adventure', 'Co-op Campaign', 'Investigation', 'Atmospheric', 'Mystery', 'Realistic', 'Horror', 'Hidden Object', 'Casual', 'Linear']",
         "['Single-player', 'Online Co-op', 'Steam Achievements', 'Captions available']"
        ],
        [
         "3656",
         "Antimatter Dimensions",
         "17 Dec, 2022",
         "Hevipelle, Omsi, Razenpok, Spectralflame, WaitingIdly",
         "Hevipelle",
         "['Strategy', 'Idler', 'Clicker', 'Free to Play', 'Casual', 'Dark Comedy', 'Time Manipulation', 'Choices Matter', 'Space', 'Indie', 'Linear', 'Singleplayer', 'Comedy', 'Resource Management', 'Inventory Management', 'Psychological Horror', 'Hentai']",
         "['Single-player', 'Steam Achievements', 'In-App Purchases']"
        ],
        [
         "3664",
         "Bloons Monkey City",
         "10 Apr, 2020",
         "Ninja Kiwi",
         "Ninja Kiwi",
         "['Free to Play', 'Strategy', 'Action', 'Tower Defense', 'City Builder', 'Multiplayer', 'Family Friendly', 'Casual', 'Great Soundtrack', 'Co-op']",
         "['Single-player', 'Steam Achievements', 'In-App Purchases']"
        ],
        [
         "3851",
         "Trailer Park Boys: Greasy Money",
         "18 Apr, 2018",
         "East Side Games",
         "East Side Games",
         "['Free to Play', 'Clicker', 'Simulation', 'Indie', 'Casual']",
         "['Single-player', 'Steam Achievements', 'Steam Trading Cards', 'In-App Purchases']"
        ],
        [
         "4013",
         "Walking Zombie 2",
         "11 Oct, 2019",
         "Alda Games",
         "Alda Games",
         "['FPS', 'Open World Survival Craft', 'Zombies', 'Open World', 'Shooter', 'Survival', 'Sandbox', 'Post-apocalyptic', 'Multiplayer', 'First-Person', 'Action RPG', 'RPG', 'Dark Humor', 'Story Rich', 'Gun Customization', 'Action', 'Pixel Graphics', 'Stylized', 'Crafting', 'Adventure']",
         "['Single-player', 'Steam Achievements', 'Steam Trading Cards', 'In-App Purchases', 'Steam Cloud']"
        ],
        [
         "4090",
         "Grim Clicker",
         "9 Jan, 2020",
         "EvilCharm Games",
         "EvilCharm Games",
         "['Clicker', 'Idler', 'Free to Play', 'RPG', '2D', 'Singleplayer', 'Indie', 'Side Scroller', 'Inventory Management', 'Casual', 'Souls-like', 'Strategy', 'Pixel Graphics', 'Automation', 'Character Customization', 'Fantasy', 'Hack and Slash', 'Action', 'Early Access', 'Dark Fantasy']",
         "['Single-player', 'Steam Achievements', 'In-App Purchases', 'Steam Cloud']"
        ],
        [
         "4108",
         "Star Realms",
         "8 Mar, 2016",
         "Wise Wizard Games, LLC",
         "Wise Wizard Games, LLC",
         "['Deckbuilding', 'Strategy', 'Card Battler', 'Card Game', 'Board Game', 'Sci-fi', 'Turn-Based Strategy', 'Combat', 'Space', 'Action', 'Tactical', 'Building', 'Touch-Friendly', 'Free to Play', 'Trading Card Game', 'Asynchronous Multiplayer', 'Multiplayer', 'Turn-Based', 'Singleplayer', 'Indie']",
         "['Single-player', 'Cross-Platform Multiplayer', 'Remote Play Together']"
        ],
        [
         "4473",
         "Propagation VR",
         "25 Sep, 2020",
         "WanadevStudio",
         "WanadevStudio",
         "['VR', 'Action', 'Horror', 'Zombies', 'Gore', 'Multiplayer', 'Violent', 'Survival', 'FPS', 'Free to Play', 'Survival Horror', 'Shooter', 'First-Person', 'Singleplayer', 'Post-apocalyptic', 'Co-op', 'Indie', 'Online Co-Op', 'Sexual Content']",
         "['Single-player', 'Tracked Controller Support', 'VR Only']"
        ],
        [
         "4540",
         "King's Quest",
         "28 Jul, 2015",
         "The Odd Gentlemen",
         "Sierra",
         "['Adventure', 'Puzzle', 'Point & Click', 'Fantasy', 'Story Rich', 'Singleplayer', 'Funny', 'Comedy', 'Classic', 'Episodic', 'Remake', 'Great Soundtrack', 'Medieval', 'Retro', 'Cult Classic', \"1990's\", '2D', 'Choices Matter', 'Free to Play', 'Escape Room']",
         "['Single-player', 'Steam Achievements', 'Partial Controller Support']"
        ],
        [
         "4591",
         "Adventure Escape Mysteries",
         "5 May, 2020",
         "Haiku Games Co",
         "Haiku Games Co",
         "['Free to Play', 'Point & Click', 'Escape Room', 'Adventure', 'Indie', 'Puzzle', 'Detective', 'Mystery', 'Investigation', '2D', 'Colorful', 'Hand-drawn', 'Story Rich', 'Singleplayer', 'Multiple Endings', 'Horror', 'Casual', 'Interactive Fiction', 'Female Protagonist', 'Hidden Object']",
         "['Single-player', 'Steam Achievements', 'In-App Purchases']"
        ],
        [
         "4799",
         "Jigsaw Puzzle Dreams",
         "1 Dec, 2021",
         "That's Nice Games",
         "That's Nice Games",
         "['Puzzle', 'Online Co-Op', 'Free to Play', 'Tabletop', 'Relaxing', 'Co-op', 'Multiplayer', 'Simulation', 'Casual', 'Realistic', 'Replay Value', 'Board Game', '3D', 'Family Friendly', 'Design & Illustration', 'Indie', 'Building', 'Singleplayer', 'Sandbox', 'Atmospheric']",
         "['Single-player', 'Online Co-op', 'Steam Workshop', 'Steam Cloud']"
        ],
        [
         "4854",
         "hexceed",
         "15 Jan, 2021",
         "ToastieLabs",
         "ToastieLabs",
         "['Free to Play', 'Casual', 'Puzzle', 'Relaxing', 'Singleplayer', 'Hex Grid', 'Arcade', 'Isometric', 'Top-Down', 'Colorful', 'Retro', 'Minimalist', '2.5D', '2D', 'Cute', 'Nonlinear', 'Indie', 'Tutorial']",
         "['Single-player', 'Steam Achievements', 'Steam Cloud']"
        ],
        [
         "4968",
         "Mansions of Madness",
         "1 Aug, 2016",
         "Fantasy Flight Games",
         "Fantasy Flight Games",
         "['Adventure', 'Strategy', 'Board Game', 'Lovecraftian', 'Free to Play', 'Card Game', 'Horror', 'Co-op', 'Multiplayer']",
         "['Single-player', 'Remote Play Together']"
        ]
       ],
       "shape": {
        "columns": 6,
        "rows": 283
       }
      },
      "text/html": [
       "<div>\n",
       "<style scoped>\n",
       "    .dataframe tbody tr th:only-of-type {\n",
       "        vertical-align: middle;\n",
       "    }\n",
       "\n",
       "    .dataframe tbody tr th {\n",
       "        vertical-align: top;\n",
       "    }\n",
       "\n",
       "    .dataframe thead th {\n",
       "        text-align: right;\n",
       "    }\n",
       "</style>\n",
       "<table border=\"1\" class=\"dataframe\">\n",
       "  <thead>\n",
       "    <tr style=\"text-align: right;\">\n",
       "      <th></th>\n",
       "      <th>Title</th>\n",
       "      <th>Release Date</th>\n",
       "      <th>Developer</th>\n",
       "      <th>Publisher</th>\n",
       "      <th>Popular Tags</th>\n",
       "      <th>Game Features</th>\n",
       "    </tr>\n",
       "  </thead>\n",
       "  <tbody>\n",
       "    <tr>\n",
       "      <th>18</th>\n",
       "      <td>Warframe</td>\n",
       "      <td>25 Mar, 2013</td>\n",
       "      <td>Digital Extremes</td>\n",
       "      <td>Digital Extremes</td>\n",
       "      <td>['Free to Play', 'Action RPG', 'Looter Shooter...</td>\n",
       "      <td>['Single-player', 'Online Co-op', 'Steam Achie...</td>\n",
       "    </tr>\n",
       "    <tr>\n",
       "      <th>33</th>\n",
       "      <td>The Sims™ 4</td>\n",
       "      <td>18 Jun, 2020</td>\n",
       "      <td>Maxis</td>\n",
       "      <td>Electronic Arts</td>\n",
       "      <td>['Free to Play', 'Life Sim', 'Character Custom...</td>\n",
       "      <td>['Single-player', 'Steam Trading Cards', 'Remo...</td>\n",
       "    </tr>\n",
       "    <tr>\n",
       "      <th>141</th>\n",
       "      <td>Grand Theft Auto IV: Complete Edition</td>\n",
       "      <td>NaN</td>\n",
       "      <td>Rockstar North, Rockstar Toronto</td>\n",
       "      <td>Rockstar Games</td>\n",
       "      <td>['Open World', 'Action', 'Automobile Sim', 'Mu...</td>\n",
       "      <td>['Single-player', 'Partial Controller Support']</td>\n",
       "    </tr>\n",
       "    <tr>\n",
       "      <th>408</th>\n",
       "      <td>Crush Crush</td>\n",
       "      <td>18 Oct, 2016</td>\n",
       "      <td>Sad Panda Studios</td>\n",
       "      <td>Sad Panda Studios</td>\n",
       "      <td>['Sexual Content', 'Nudity', 'Free to Play', '...</td>\n",
       "      <td>['Single-player', 'Steam Achievements', 'Steam...</td>\n",
       "    </tr>\n",
       "    <tr>\n",
       "      <th>432</th>\n",
       "      <td>DEATH STRANDING DIRECTOR'S CUT</td>\n",
       "      <td>30 Mar, 2022</td>\n",
       "      <td>KOJIMA PRODUCTIONS</td>\n",
       "      <td>505 Games</td>\n",
       "      <td>['Story Rich', 'Open World', 'Walking Simulato...</td>\n",
       "      <td>['Single-player', 'Steam Achievements', 'Full ...</td>\n",
       "    </tr>\n",
       "    <tr>\n",
       "      <th>...</th>\n",
       "      <td>...</td>\n",
       "      <td>...</td>\n",
       "      <td>...</td>\n",
       "      <td>...</td>\n",
       "      <td>...</td>\n",
       "      <td>...</td>\n",
       "    </tr>\n",
       "    <tr>\n",
       "      <th>24968</th>\n",
       "      <td>Thief Simulator 2: Prologue</td>\n",
       "      <td>3 May, 2023</td>\n",
       "      <td>Crystal Cove, Ultimate Games S.A.</td>\n",
       "      <td>PlayWay S.A.</td>\n",
       "      <td>['Action', 'Simulation', 'Singleplayer', 'Co-o...</td>\n",
       "      <td>['Single-player', 'Steam Achievements']</td>\n",
       "    </tr>\n",
       "    <tr>\n",
       "      <th>24969</th>\n",
       "      <td>Postmouse</td>\n",
       "      <td>30 Jan, 2023</td>\n",
       "      <td>Critters Collective</td>\n",
       "      <td>The Animation Workshop</td>\n",
       "      <td>['Adventure', '3D Platformer', 'Singleplayer',...</td>\n",
       "      <td>['Single-player', 'Full controller support']</td>\n",
       "    </tr>\n",
       "    <tr>\n",
       "      <th>24973</th>\n",
       "      <td>TRY AGAIN</td>\n",
       "      <td>14 Jul, 2023</td>\n",
       "      <td>the Rejects</td>\n",
       "      <td>the Rejects</td>\n",
       "      <td>['Indie', 'Platformer', 'Adventure', 'Story Ri...</td>\n",
       "      <td>['Single-player', 'Full controller support']</td>\n",
       "    </tr>\n",
       "    <tr>\n",
       "      <th>24975</th>\n",
       "      <td>KILL CRAB</td>\n",
       "      <td>19 Jul, 2023</td>\n",
       "      <td>Tumbleweed Games</td>\n",
       "      <td>Tumbleweed Games</td>\n",
       "      <td>['FPS', 'Stylized', 'Western', 'Underwater', '...</td>\n",
       "      <td>['Single-player']</td>\n",
       "    </tr>\n",
       "    <tr>\n",
       "      <th>70970</th>\n",
       "      <td>Resident Evil 4 Chainsaw Demo</td>\n",
       "      <td>9 Mar, 2023</td>\n",
       "      <td>CAPCOM Co., Ltd.</td>\n",
       "      <td>CAPCOM Co., Ltd.</td>\n",
       "      <td>['Gore', 'Action', 'Adventure', 'Violent', 'Ho...</td>\n",
       "      <td>['Single-player', 'Full controller support', '...</td>\n",
       "    </tr>\n",
       "  </tbody>\n",
       "</table>\n",
       "<p>283 rows × 6 columns</p>\n",
       "</div>"
      ],
      "text/plain": [
       "                                       Title  Release Date  \\\n",
       "18                                  Warframe  25 Mar, 2013   \n",
       "33                               The Sims™ 4  18 Jun, 2020   \n",
       "141    Grand Theft Auto IV: Complete Edition           NaN   \n",
       "408                              Crush Crush  18 Oct, 2016   \n",
       "432           DEATH STRANDING DIRECTOR'S CUT  30 Mar, 2022   \n",
       "...                                      ...           ...   \n",
       "24968            Thief Simulator 2: Prologue   3 May, 2023   \n",
       "24969                              Postmouse  30 Jan, 2023   \n",
       "24973                              TRY AGAIN  14 Jul, 2023   \n",
       "24975                              KILL CRAB  19 Jul, 2023   \n",
       "70970          Resident Evil 4 Chainsaw Demo   9 Mar, 2023   \n",
       "\n",
       "                               Developer               Publisher  \\\n",
       "18                      Digital Extremes        Digital Extremes   \n",
       "33                                 Maxis         Electronic Arts   \n",
       "141     Rockstar North, Rockstar Toronto          Rockstar Games   \n",
       "408                    Sad Panda Studios       Sad Panda Studios   \n",
       "432                   KOJIMA PRODUCTIONS               505 Games   \n",
       "...                                  ...                     ...   \n",
       "24968  Crystal Cove, Ultimate Games S.A.            PlayWay S.A.   \n",
       "24969                Critters Collective  The Animation Workshop   \n",
       "24973                        the Rejects             the Rejects   \n",
       "24975                   Tumbleweed Games        Tumbleweed Games   \n",
       "70970                   CAPCOM Co., Ltd.        CAPCOM Co., Ltd.   \n",
       "\n",
       "                                            Popular Tags  \\\n",
       "18     ['Free to Play', 'Action RPG', 'Looter Shooter...   \n",
       "33     ['Free to Play', 'Life Sim', 'Character Custom...   \n",
       "141    ['Open World', 'Action', 'Automobile Sim', 'Mu...   \n",
       "408    ['Sexual Content', 'Nudity', 'Free to Play', '...   \n",
       "432    ['Story Rich', 'Open World', 'Walking Simulato...   \n",
       "...                                                  ...   \n",
       "24968  ['Action', 'Simulation', 'Singleplayer', 'Co-o...   \n",
       "24969  ['Adventure', '3D Platformer', 'Singleplayer',...   \n",
       "24973  ['Indie', 'Platformer', 'Adventure', 'Story Ri...   \n",
       "24975  ['FPS', 'Stylized', 'Western', 'Underwater', '...   \n",
       "70970  ['Gore', 'Action', 'Adventure', 'Violent', 'Ho...   \n",
       "\n",
       "                                           Game Features  \n",
       "18     ['Single-player', 'Online Co-op', 'Steam Achie...  \n",
       "33     ['Single-player', 'Steam Trading Cards', 'Remo...  \n",
       "141      ['Single-player', 'Partial Controller Support']  \n",
       "408    ['Single-player', 'Steam Achievements', 'Steam...  \n",
       "432    ['Single-player', 'Steam Achievements', 'Full ...  \n",
       "...                                                  ...  \n",
       "24968            ['Single-player', 'Steam Achievements']  \n",
       "24969       ['Single-player', 'Full controller support']  \n",
       "24973       ['Single-player', 'Full controller support']  \n",
       "24975                                  ['Single-player']  \n",
       "70970  ['Single-player', 'Full controller support', '...  \n",
       "\n",
       "[283 rows x 6 columns]"
      ]
     },
     "execution_count": 3,
     "metadata": {},
     "output_type": "execute_result"
    }
   ],
   "source": [
    "#Chọn các mẫu thỏa mãn điều kiện về giá trị\n",
    "data.loc[\n",
    "    (data[\"Original Price\"] == \"Free\") & \n",
    "    (data[\"All Reviews Summary\"] == \"Very Positive\") & \n",
    "    (data[\"Game Features\"].str.contains(\"Single-player\", na=False)) &\n",
    "    (~data[\"Game Features\"].str.contains(\"Online PvP\", na=False)),  \n",
    "    ['Title', 'Release Date', 'Developer', 'Publisher', 'Popular Tags', 'Game Features']\n",
    "]\n",
    "\n"
   ]
  },
  {
   "cell_type": "code",
   "execution_count": null,
   "metadata": {},
   "outputs": [],
   "source": [
    "type(data['Game Features'])"
   ]
  },
  {
   "cell_type": "code",
   "execution_count": null,
   "metadata": {},
   "outputs": [],
   "source": [
    "#Chọn mẫu chính xác theo hàng\n",
    "data.iloc[[2020]]"
   ]
  },
  {
   "cell_type": "code",
   "execution_count": null,
   "metadata": {},
   "outputs": [],
   "source": [
    "#Chọn nhiều mẫu theo hàng và cộtcột\n",
    "data.iloc[2018:2023,2:10]"
   ]
  },
  {
   "cell_type": "markdown",
   "metadata": {},
   "source": [
    "# **IV. Thao tác với dữ liệu**"
   ]
  },
  {
   "cell_type": "markdown",
   "metadata": {},
   "source": [
    "### Thay thế giá trị với Apply()"
   ]
  },
  {
   "cell_type": "code",
   "execution_count": 5,
   "metadata": {},
   "outputs": [
    {
     "data": {
      "application/vnd.microsoft.datawrangler.viewer.v0+json": {
       "columns": [
        {
         "name": "index",
         "rawType": "int64",
         "type": "integer"
        },
        {
         "name": "Title",
         "rawType": "object",
         "type": "string"
        },
        {
         "name": "Original Price",
         "rawType": "object",
         "type": "string"
        },
        {
         "name": "Discounted Price",
         "rawType": "float64",
         "type": "float"
        },
        {
         "name": "Release Date",
         "rawType": "object",
         "type": "string"
        },
        {
         "name": "Link",
         "rawType": "object",
         "type": "string"
        },
        {
         "name": "Game Description",
         "rawType": "object",
         "type": "string"
        },
        {
         "name": "Recent Reviews Summary",
         "rawType": "object",
         "type": "string"
        },
        {
         "name": "All Reviews Summary",
         "rawType": "object",
         "type": "string"
        },
        {
         "name": "Recent Reviews Number",
         "rawType": "object",
         "type": "string"
        },
        {
         "name": "All Reviews Number",
         "rawType": "object",
         "type": "string"
        },
        {
         "name": "Developer",
         "rawType": "object",
         "type": "string"
        },
        {
         "name": "Publisher",
         "rawType": "object",
         "type": "string"
        },
        {
         "name": "Supported Languages",
         "rawType": "object",
         "type": "string"
        },
        {
         "name": "Popular Tags",
         "rawType": "object",
         "type": "string"
        },
        {
         "name": "Game Features",
         "rawType": "object",
         "type": "string"
        },
        {
         "name": "Minimum Requirements",
         "rawType": "object",
         "type": "string"
        }
       ],
       "conversionMethod": "pd.DataFrame",
       "ref": "93f5c323-271a-4538-858a-aea2f92b89b2",
       "rows": [
        [
         "0",
         "Baldur's Gate 3",
         "$29.99",
         "29.99",
         "3 Aug, 2023",
         "https://store.steampowered.com/app/1086940/Baldurs_Gate_3/?snr=1_7_7_230_150_1",
         "Baldur’s Gate 3 is a story-rich, party-based RPG set in the universe of Dungeons & Dragons, where your choices shape a tale of fellowship and betrayal, survival and sacrifice, and the lure of absolute power.",
         "Overwhelmingly Positive",
         "Very Positive",
         "- 96% of the 128,900 user reviews in the last 30 days are positive.",
         "- 94% of the 188,617 user reviews for this game are positive.",
         "Larian Studios",
         "Larian Studios",
         "['English', 'French', 'German', 'Spanish - Spain', 'Polish', 'Russian', 'Simplified Chinese', 'Turkish', 'Portuguese - Brazil', 'Italian', 'Spanish - Latin America', 'Traditional Chinese', 'Ukrainian']",
         "['RPG', 'Choices Matter', 'Character Customization', 'Story Rich', 'Adventure', 'Online Co-Op', 'CRPG', 'Multiplayer', 'Fantasy', 'Turn-Based Combat', 'Dungeons & Dragons', 'Co-op Campaign', 'Strategy', 'Singleplayer', 'Romance', 'Class-Based', 'Dark Fantasy', 'Combat', 'Controller', 'Stealth']",
         "['Single-player', 'Online Co-op', 'LAN Co-op', 'Steam Achievements', 'Full controller support', 'Steam Cloud']",
         "Requires a 64-bit processor and operating system | OS: |  Windows 10 64-bit | Processor: |  Intel I5 4690 / AMD FX 8350 | Memory: |  8 GB RAM | Graphics: |  Nvidia GTX 970 / RX 480 (4GB+ of VRAM) | DirectX: |  Version 11 | Storage: |  150 GB available space | Additional Notes: |  SSD required"
        ],
        [
         "1",
         "Counter-Strike: Global Offensive",
         "$14.99",
         "14.99",
         "21 Aug, 2012",
         "https://store.steampowered.com/app/730/CounterStrike_Global_Offensive/?snr=1_7_7_230_150_1",
         "Counter-Strike: Global Offensive (CS: GO) expands upon the team-based action gameplay that it pioneered when it was launched 19 years ago. CS: GO features new maps, characters, weapons, and game modes, and delivers updated versions of the classic CS content (de_dust2, etc.).",
         "Very Positive",
         "Very Positive",
         "- 89% of the 75,284 user reviews in the last 30 days are positive.",
         "- 88% of the 7,428,921 user reviews for this game are positive.",
         "Valve, Hidden Path Entertainment",
         "Valve",
         "['English', 'Czech', 'Danish', 'Dutch', 'Finnish', 'French', 'German', 'Hungarian', 'Italian', 'Japanese', 'Korean', 'Norwegian', 'Polish', 'Portuguese - Portugal', 'Portuguese - Brazil', 'Romanian', 'Russian', 'Simplified Chinese', 'Spanish - Spain', 'Swedish', 'Thai', 'Traditional Chinese', 'Turkish', 'Bulgarian', 'Ukrainian', 'Greek', 'Spanish - Latin America', 'Vietnamese']",
         "['FPS', 'Shooter', 'Multiplayer', 'Competitive', 'Action', 'Team-Based', 'eSports', 'Tactical', 'First-Person', 'PvP', 'Online Co-Op', 'Co-op', 'Strategy', 'Military', 'War', 'Difficult', 'Trading', 'Realistic', 'Fast-Paced', 'Moddable']",
         "['Steam Achievements', 'Full controller support', 'Steam Trading Cards', 'Steam Workshop', 'In-App Purchases', 'Valve Anti-Cheat enabled', 'Stats', 'Remote Play on Phone', 'Remote Play on Tablet', 'Remote Play on TV']",
         "OS: |  Windows® 7/Vista/XP | Processor: |  Intel® Core™ 2 Duo E6600 or AMD Phenom™ X3 8750 processor or better | Memory: |  2 GB RAM | Graphics: |  Video card must be 256 MB or more and should be a DirectX 9-compatible with support for Pixel Shader 3.0 | DirectX: |  Version 9.0c | Storage: |  15 GB available space"
        ],
        [
         "2",
         "Apex Legends™",
         "Free",
         "0.0",
         "4 Nov, 2020",
         "https://store.steampowered.com/app/1172470/Apex_Legends/?snr=1_7_7_230_150_1",
         "Apex Legends is the award-winning, free-to-play Hero Shooter from Respawn Entertainment. Master an ever-growing roster of legendary characters with powerful abilities, and experience strategic squad play and innovative gameplay in the next evolution of Hero Shooter and Battle Royale.",
         "Mixed",
         "Very Positive",
         "- 65% of the 18,581 user reviews in the last 30 days are positive.",
         "- 80% of the 701,597 user reviews for this game are positive.",
         "Respawn Entertainment",
         "Electronic Arts",
         "['English', 'French', 'Italian', 'German', 'Spanish - Spain', 'Japanese', 'Korean', 'Polish', 'Portuguese - Brazil', 'Russian', 'Simplified Chinese', 'Traditional Chinese', 'Spanish - Latin America', 'Arabic']",
         "['Free to Play', 'Multiplayer', 'Battle Royale', 'Shooter', 'FPS', 'First-Person', 'PvP', 'Action', 'Team-Based', 'Hero Shooter', 'Tactical', 'Sci-fi', 'Survival', 'Character Customization', 'Loot', 'Funny', 'Co-op', 'Lore-Rich', 'Cyberpunk', 'Horror']",
         "['Online PvP', 'Online Co-op', 'Steam Achievements', 'Full controller support', 'Steam Trading Cards', 'In-App Purchases']",
         "Requires a 64-bit processor and operating system | OS: |  64-bit Windows 7 | Processor: |  AMD FX 4350 or Equivalent, Intel Core i3 6300 or Equivalent | Memory: |  6 GB RAM | Graphics: |  AMD Radeon™ HD 7730, NVIDIA GeForce® GT 640 | DirectX: |  Version 11 | Network: |  Broadband Internet connection | Storage: |  56 GB available space | Additional Notes: |  ~3.8GB for 1 localized language"
        ],
        [
         "3",
         "Forza Horizon 5",
         "$34.78",
         "17.39",
         "8 Nov, 2021",
         "https://store.steampowered.com/app/1551360/Forza_Horizon_5/?snr=1_7_7_230_150_1",
         "Your Ultimate Horizon Adventure awaits! Explore the vibrant open world landscapes of Mexico with limitless, fun driving action in the world’s greatest cars. Conquer the rugged Sierra Nueva in the ultimate Horizon Rally experience. Requires Forza Horizon 5 game, expansion sold separately.",
         "Very Positive",
         "Very Positive",
         "- 87% of the 4,120 user reviews in the last 30 days are positive.",
         "- 88% of the 123,162 user reviews for this game are positive.",
         "Playground Games",
         "Xbox Game Studios",
         "['English', 'French', 'Italian', 'German', 'Spanish - Spain', 'Czech', 'Hungarian', 'Japanese', 'Korean', 'Polish', 'Portuguese - Brazil', 'Russian', 'Simplified Chinese', 'Spanish - Latin America', 'Traditional Chinese', 'Turkish']",
         "['Racing', 'Open World', 'Driving', 'Multiplayer', 'Automobile Sim', 'Realistic', 'Adventure', 'Simulation', 'Exploration', 'Arcade', 'First-Person', 'Atmospheric', 'Sports', 'Co-op', 'PvP', 'Online Co-Op', 'Singleplayer', 'Beautiful', 'Action', 'Third Person']",
         "['Single-player', 'Online PvP', 'Online Co-op', 'Cross-Platform Multiplayer', 'Steam Achievements', 'Full controller support', 'Steam Trading Cards', 'Steam Cloud']",
         "Requires a 64-bit processor and operating system | OS: |  Windows 10 version 15063.0 or higher | Processor: |  Intel i5-4460 or AMD Ryzen 3 1200 | Memory: |  8 GB RAM | Graphics: |  NVidia GTX 970 OR AMD RX 470 | DirectX: |  Version 12 | Network: |  Broadband Internet connection | Storage: |  110 GB available space"
        ],
        [
         "4",
         "Call of Duty®",
         "Free",
         "0.0",
         "27 Oct, 2022",
         "https://store.steampowered.com/app/1938090/Call_of_Duty/?snr=1_7_7_230_150_1",
         "Welcome to Call of Duty® HQ, the home of Call of Duty®: Modern Warfare® III, Call of Duty®: Modern Warfare® II and Warzone™.",
         "Mixed",
         "Mixed",
         "- 49% of the 8,257 user reviews in the last 30 days are positive.",
         "- 57% of the 236,876 user reviews for this game are positive.",
         "Infinity Ward, Raven Software, Beenox, Treyarch, High Moon Studios, Sledgehammer Games, Activision Shanghai, Demonware, Toys for Bob",
         "Activision",
         "['English', 'French', 'Italian', 'German', 'Spanish - Spain', 'Korean', 'Polish', 'Russian', 'Traditional Chinese', 'Japanese', 'Spanish - Latin America', 'Arabic', 'Simplified Chinese', 'Portuguese - Brazil']",
         "['FPS', 'Multiplayer', 'Shooter', 'Action', 'Singleplayer', 'Military', 'First-Person', 'War', 'Modern', 'Tactical', 'Violent', 'Co-op', 'Realistic', 'Story Rich', 'Atmospheric', 'Mature', 'Online Co-Op', 'Gore', 'Third-Person Shooter', 'Third Person']",
         "['Single-player', 'Online PvP', 'Online Co-op', 'Cross-Platform Multiplayer', 'Steam Achievements', 'Full controller support', 'Captions available', 'In-App Purchases']",
         "Requires a 64-bit processor and operating system | OS: |  Windows® 10 64 Bit (latest update) | Processor: |  Intel® Core™ i3-6100 / Core™ i5-2500K or AMD Ryzen™ 3 1200 | Memory: |  8 GB RAM | Graphics: |  NVIDIA® GeForce® GTX 960 or AMD Radeon™ RX 470 - DirectX 12.0 compatible system | DirectX: |  Version 12 | Network: |  Broadband Internet connection | Storage: |  125 GB available space"
        ]
       ],
       "shape": {
        "columns": 16,
        "rows": 5
       }
      },
      "text/html": [
       "<div>\n",
       "<style scoped>\n",
       "    .dataframe tbody tr th:only-of-type {\n",
       "        vertical-align: middle;\n",
       "    }\n",
       "\n",
       "    .dataframe tbody tr th {\n",
       "        vertical-align: top;\n",
       "    }\n",
       "\n",
       "    .dataframe thead th {\n",
       "        text-align: right;\n",
       "    }\n",
       "</style>\n",
       "<table border=\"1\" class=\"dataframe\">\n",
       "  <thead>\n",
       "    <tr style=\"text-align: right;\">\n",
       "      <th></th>\n",
       "      <th>Title</th>\n",
       "      <th>Original Price</th>\n",
       "      <th>Discounted Price</th>\n",
       "      <th>Release Date</th>\n",
       "      <th>Link</th>\n",
       "      <th>Game Description</th>\n",
       "      <th>Recent Reviews Summary</th>\n",
       "      <th>All Reviews Summary</th>\n",
       "      <th>Recent Reviews Number</th>\n",
       "      <th>All Reviews Number</th>\n",
       "      <th>Developer</th>\n",
       "      <th>Publisher</th>\n",
       "      <th>Supported Languages</th>\n",
       "      <th>Popular Tags</th>\n",
       "      <th>Game Features</th>\n",
       "      <th>Minimum Requirements</th>\n",
       "    </tr>\n",
       "  </thead>\n",
       "  <tbody>\n",
       "    <tr>\n",
       "      <th>0</th>\n",
       "      <td>Baldur's Gate 3</td>\n",
       "      <td>$29.99</td>\n",
       "      <td>29.99</td>\n",
       "      <td>3 Aug, 2023</td>\n",
       "      <td>https://store.steampowered.com/app/1086940/Bal...</td>\n",
       "      <td>Baldur’s Gate 3 is a story-rich, party-based R...</td>\n",
       "      <td>Overwhelmingly Positive</td>\n",
       "      <td>Very Positive</td>\n",
       "      <td>- 96% of the 128,900 user reviews in the last ...</td>\n",
       "      <td>- 94% of the 188,617 user reviews for this gam...</td>\n",
       "      <td>Larian Studios</td>\n",
       "      <td>Larian Studios</td>\n",
       "      <td>['English', 'French', 'German', 'Spanish - Spa...</td>\n",
       "      <td>['RPG', 'Choices Matter', 'Character Customiza...</td>\n",
       "      <td>['Single-player', 'Online Co-op', 'LAN Co-op',...</td>\n",
       "      <td>Requires a 64-bit processor and operating syst...</td>\n",
       "    </tr>\n",
       "    <tr>\n",
       "      <th>1</th>\n",
       "      <td>Counter-Strike: Global Offensive</td>\n",
       "      <td>$14.99</td>\n",
       "      <td>14.99</td>\n",
       "      <td>21 Aug, 2012</td>\n",
       "      <td>https://store.steampowered.com/app/730/Counter...</td>\n",
       "      <td>Counter-Strike: Global Offensive (CS: GO) expa...</td>\n",
       "      <td>Very Positive</td>\n",
       "      <td>Very Positive</td>\n",
       "      <td>- 89% of the 75,284 user reviews in the last 3...</td>\n",
       "      <td>- 88% of the 7,428,921 user reviews for this g...</td>\n",
       "      <td>Valve, Hidden Path Entertainment</td>\n",
       "      <td>Valve</td>\n",
       "      <td>['English', 'Czech', 'Danish', 'Dutch', 'Finni...</td>\n",
       "      <td>['FPS', 'Shooter', 'Multiplayer', 'Competitive...</td>\n",
       "      <td>['Steam Achievements', 'Full controller suppor...</td>\n",
       "      <td>OS: |  Windows® 7/Vista/XP | Processor: |  Int...</td>\n",
       "    </tr>\n",
       "    <tr>\n",
       "      <th>2</th>\n",
       "      <td>Apex Legends™</td>\n",
       "      <td>Free</td>\n",
       "      <td>0.00</td>\n",
       "      <td>4 Nov, 2020</td>\n",
       "      <td>https://store.steampowered.com/app/1172470/Ape...</td>\n",
       "      <td>Apex Legends is the award-winning, free-to-pla...</td>\n",
       "      <td>Mixed</td>\n",
       "      <td>Very Positive</td>\n",
       "      <td>- 65% of the 18,581 user reviews in the last 3...</td>\n",
       "      <td>- 80% of the 701,597 user reviews for this gam...</td>\n",
       "      <td>Respawn Entertainment</td>\n",
       "      <td>Electronic Arts</td>\n",
       "      <td>['English', 'French', 'Italian', 'German', 'Sp...</td>\n",
       "      <td>['Free to Play', 'Multiplayer', 'Battle Royale...</td>\n",
       "      <td>['Online PvP', 'Online Co-op', 'Steam Achievem...</td>\n",
       "      <td>Requires a 64-bit processor and operating syst...</td>\n",
       "    </tr>\n",
       "    <tr>\n",
       "      <th>3</th>\n",
       "      <td>Forza Horizon 5</td>\n",
       "      <td>$34.78</td>\n",
       "      <td>17.39</td>\n",
       "      <td>8 Nov, 2021</td>\n",
       "      <td>https://store.steampowered.com/app/1551360/For...</td>\n",
       "      <td>Your Ultimate Horizon Adventure awaits! Explor...</td>\n",
       "      <td>Very Positive</td>\n",
       "      <td>Very Positive</td>\n",
       "      <td>- 87% of the 4,120 user reviews in the last 30...</td>\n",
       "      <td>- 88% of the 123,162 user reviews for this gam...</td>\n",
       "      <td>Playground Games</td>\n",
       "      <td>Xbox Game Studios</td>\n",
       "      <td>['English', 'French', 'Italian', 'German', 'Sp...</td>\n",
       "      <td>['Racing', 'Open World', 'Driving', 'Multiplay...</td>\n",
       "      <td>['Single-player', 'Online PvP', 'Online Co-op'...</td>\n",
       "      <td>Requires a 64-bit processor and operating syst...</td>\n",
       "    </tr>\n",
       "    <tr>\n",
       "      <th>4</th>\n",
       "      <td>Call of Duty®</td>\n",
       "      <td>Free</td>\n",
       "      <td>0.00</td>\n",
       "      <td>27 Oct, 2022</td>\n",
       "      <td>https://store.steampowered.com/app/1938090/Cal...</td>\n",
       "      <td>Welcome to Call of Duty® HQ, the home of Call ...</td>\n",
       "      <td>Mixed</td>\n",
       "      <td>Mixed</td>\n",
       "      <td>- 49% of the 8,257 user reviews in the last 30...</td>\n",
       "      <td>- 57% of the 236,876 user reviews for this gam...</td>\n",
       "      <td>Infinity Ward, Raven Software, Beenox, Treyarc...</td>\n",
       "      <td>Activision</td>\n",
       "      <td>['English', 'French', 'Italian', 'German', 'Sp...</td>\n",
       "      <td>['FPS', 'Multiplayer', 'Shooter', 'Action', 'S...</td>\n",
       "      <td>['Single-player', 'Online PvP', 'Online Co-op'...</td>\n",
       "      <td>Requires a 64-bit processor and operating syst...</td>\n",
       "    </tr>\n",
       "  </tbody>\n",
       "</table>\n",
       "</div>"
      ],
      "text/plain": [
       "                              Title Original Price  Discounted Price  \\\n",
       "0                   Baldur's Gate 3         $29.99             29.99   \n",
       "1  Counter-Strike: Global Offensive         $14.99             14.99   \n",
       "2                     Apex Legends™           Free              0.00   \n",
       "3                   Forza Horizon 5         $34.78             17.39   \n",
       "4                     Call of Duty®           Free              0.00   \n",
       "\n",
       "   Release Date                                               Link  \\\n",
       "0   3 Aug, 2023  https://store.steampowered.com/app/1086940/Bal...   \n",
       "1  21 Aug, 2012  https://store.steampowered.com/app/730/Counter...   \n",
       "2   4 Nov, 2020  https://store.steampowered.com/app/1172470/Ape...   \n",
       "3   8 Nov, 2021  https://store.steampowered.com/app/1551360/For...   \n",
       "4  27 Oct, 2022  https://store.steampowered.com/app/1938090/Cal...   \n",
       "\n",
       "                                    Game Description   Recent Reviews Summary  \\\n",
       "0  Baldur’s Gate 3 is a story-rich, party-based R...  Overwhelmingly Positive   \n",
       "1  Counter-Strike: Global Offensive (CS: GO) expa...            Very Positive   \n",
       "2  Apex Legends is the award-winning, free-to-pla...                    Mixed   \n",
       "3  Your Ultimate Horizon Adventure awaits! Explor...            Very Positive   \n",
       "4  Welcome to Call of Duty® HQ, the home of Call ...                    Mixed   \n",
       "\n",
       "  All Reviews Summary                              Recent Reviews Number  \\\n",
       "0       Very Positive  - 96% of the 128,900 user reviews in the last ...   \n",
       "1       Very Positive  - 89% of the 75,284 user reviews in the last 3...   \n",
       "2       Very Positive  - 65% of the 18,581 user reviews in the last 3...   \n",
       "3       Very Positive  - 87% of the 4,120 user reviews in the last 30...   \n",
       "4               Mixed  - 49% of the 8,257 user reviews in the last 30...   \n",
       "\n",
       "                                  All Reviews Number  \\\n",
       "0  - 94% of the 188,617 user reviews for this gam...   \n",
       "1  - 88% of the 7,428,921 user reviews for this g...   \n",
       "2  - 80% of the 701,597 user reviews for this gam...   \n",
       "3  - 88% of the 123,162 user reviews for this gam...   \n",
       "4  - 57% of the 236,876 user reviews for this gam...   \n",
       "\n",
       "                                           Developer          Publisher  \\\n",
       "0                                     Larian Studios     Larian Studios   \n",
       "1                   Valve, Hidden Path Entertainment              Valve   \n",
       "2                              Respawn Entertainment    Electronic Arts   \n",
       "3                                   Playground Games  Xbox Game Studios   \n",
       "4  Infinity Ward, Raven Software, Beenox, Treyarc...         Activision   \n",
       "\n",
       "                                 Supported Languages  \\\n",
       "0  ['English', 'French', 'German', 'Spanish - Spa...   \n",
       "1  ['English', 'Czech', 'Danish', 'Dutch', 'Finni...   \n",
       "2  ['English', 'French', 'Italian', 'German', 'Sp...   \n",
       "3  ['English', 'French', 'Italian', 'German', 'Sp...   \n",
       "4  ['English', 'French', 'Italian', 'German', 'Sp...   \n",
       "\n",
       "                                        Popular Tags  \\\n",
       "0  ['RPG', 'Choices Matter', 'Character Customiza...   \n",
       "1  ['FPS', 'Shooter', 'Multiplayer', 'Competitive...   \n",
       "2  ['Free to Play', 'Multiplayer', 'Battle Royale...   \n",
       "3  ['Racing', 'Open World', 'Driving', 'Multiplay...   \n",
       "4  ['FPS', 'Multiplayer', 'Shooter', 'Action', 'S...   \n",
       "\n",
       "                                       Game Features  \\\n",
       "0  ['Single-player', 'Online Co-op', 'LAN Co-op',...   \n",
       "1  ['Steam Achievements', 'Full controller suppor...   \n",
       "2  ['Online PvP', 'Online Co-op', 'Steam Achievem...   \n",
       "3  ['Single-player', 'Online PvP', 'Online Co-op'...   \n",
       "4  ['Single-player', 'Online PvP', 'Online Co-op'...   \n",
       "\n",
       "                                Minimum Requirements  \n",
       "0  Requires a 64-bit processor and operating syst...  \n",
       "1  OS: |  Windows® 7/Vista/XP | Processor: |  Int...  \n",
       "2  Requires a 64-bit processor and operating syst...  \n",
       "3  Requires a 64-bit processor and operating syst...  \n",
       "4  Requires a 64-bit processor and operating syst...  "
      ]
     },
     "execution_count": 5,
     "metadata": {},
     "output_type": "execute_result"
    }
   ],
   "source": [
    "newsheet=data\n",
    "newsheet['Discounted Price']=newsheet['Discounted Price'].apply(lambda x: (x.replace(',','')))\n",
    "newsheet['Discounted Price']=newsheet['Discounted Price'].apply(lambda x: float(x.replace('$','')) if x != 'Free' else 0.0)\n",
    "newsheet.head()"
   ]
  },
  {
   "cell_type": "markdown",
   "metadata": {},
   "source": []
  }
 ],
 "metadata": {
  "kernelspec": {
   "display_name": "Python 3",
   "language": "python",
   "name": "python3"
  },
  "language_info": {
   "codemirror_mode": {
    "name": "ipython",
    "version": 3
   },
   "file_extension": ".py",
   "mimetype": "text/x-python",
   "name": "python",
   "nbconvert_exporter": "python",
   "pygments_lexer": "ipython3",
   "version": "3.13.2"
  }
 },
 "nbformat": 4,
 "nbformat_minor": 2
}
